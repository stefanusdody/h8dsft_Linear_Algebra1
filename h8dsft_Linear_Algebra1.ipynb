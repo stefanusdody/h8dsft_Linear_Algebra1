{
 "cells": [
  {
   "cell_type": "code",
   "execution_count": 2,
   "id": "c2c7bde4",
   "metadata": {},
   "outputs": [],
   "source": [
    "# import library\n",
    "import numpy as np\n",
    "import matplotlib.pyplot as plt\n",
    "%matplotlib inline"
   ]
  },
  {
   "cell_type": "markdown",
   "id": "83ef0cc3",
   "metadata": {},
   "source": [
    "### Membuat Vector"
   ]
  },
  {
   "cell_type": "code",
   "execution_count": 4,
   "id": "a88f2635",
   "metadata": {},
   "outputs": [
    {
     "data": {
      "text/plain": [
       "array([17, 22, 19])"
      ]
     },
     "execution_count": 4,
     "metadata": {},
     "output_type": "execute_result"
    }
   ],
   "source": [
    "vector = np.array([17, 22, 19])\n",
    "\n",
    "vector"
   ]
  },
  {
   "cell_type": "code",
   "execution_count": 3,
   "id": "d2e4a498",
   "metadata": {},
   "outputs": [
    {
     "name": "stdout",
     "output_type": "stream",
     "text": [
      "Vector dimensions: (3,)\n",
      "Vector size: 3\n"
     ]
    }
   ],
   "source": [
    "print('Vector dimensions: {}' .format(vector.shape))\n",
    "print('Vector size: {}' .format(vector.size))"
   ]
  },
  {
   "cell_type": "markdown",
   "id": "7136f435",
   "metadata": {},
   "source": [
    "### Membuat Matrix "
   ]
  },
  {
   "cell_type": "code",
   "execution_count": 4,
   "id": "56247f43",
   "metadata": {},
   "outputs": [
    {
     "data": {
      "text/plain": [
       "matrix([[ 23,  50,  19],\n",
       "        [  7,  12, 109],\n",
       "        [ 57,  57,  98]])"
      ]
     },
     "execution_count": 4,
     "metadata": {},
     "output_type": "execute_result"
    }
   ],
   "source": [
    "matrix = np.matrix([[23,50,19],[7,12,109],[57,57,98]])\n",
    "\n",
    "matrix"
   ]
  },
  {
   "cell_type": "code",
   "execution_count": 5,
   "id": "684e36e8",
   "metadata": {},
   "outputs": [
    {
     "name": "stdout",
     "output_type": "stream",
     "text": [
      "Matrix dimensions : (3, 3)\n",
      "Matrix size : 9\n"
     ]
    }
   ],
   "source": [
    "print('Matrix dimensions : {}'.format(matrix.shape))\n",
    "print('Matrix size : {}'.format(matrix.size))"
   ]
  },
  {
   "cell_type": "markdown",
   "id": "aac9f55a",
   "metadata": {},
   "source": [
    "### Membuat Tensor"
   ]
  },
  {
   "cell_type": "code",
   "execution_count": 6,
   "id": "45b0e3ab",
   "metadata": {},
   "outputs": [
    {
     "data": {
      "text/plain": [
       "array([[23, 50,  7, 12],\n",
       "       [57, 67, 99, 43],\n",
       "       [75, 21, 57, 12],\n",
       "       [87, 26, 18, 84]])"
      ]
     },
     "execution_count": 6,
     "metadata": {},
     "output_type": "execute_result"
    }
   ],
   "source": [
    "tensor = np.array(([[23,50,7,12],[57,67,99,43],[75,21,57,12],[87,26,18,84]]))\n",
    "tensor"
   ]
  },
  {
   "cell_type": "code",
   "execution_count": 7,
   "id": "2df2b46f",
   "metadata": {},
   "outputs": [
    {
     "name": "stdout",
     "output_type": "stream",
     "text": [
      "Tensor dimensions :(4, 4)\n",
      "Jumlah Tensor dimensions: 2\n",
      "Tensor size: 16\n"
     ]
    }
   ],
   "source": [
    "print('Tensor dimensions :{}'.format(tensor.shape))\n",
    "print('Jumlah Tensor dimensions: {}'.format(len(tensor.shape)))\n",
    "print('Tensor size: {}'.format(tensor.size))"
   ]
  },
  {
   "cell_type": "markdown",
   "id": "446c081a",
   "metadata": {},
   "source": [
    "### Perkalian Matrix"
   ]
  },
  {
   "cell_type": "code",
   "execution_count": 8,
   "id": "68199ede",
   "metadata": {},
   "outputs": [
    {
     "data": {
      "text/plain": [
       "array([[ 23,  50,  19],\n",
       "       [  7,  12, 109],\n",
       "       [ 57,  67,  98]])"
      ]
     },
     "execution_count": 8,
     "metadata": {},
     "output_type": "execute_result"
    }
   ],
   "source": [
    "A = np.array([[23, 50, 19],[7, 12, 109],[57,67,98]])\n",
    "A"
   ]
  },
  {
   "cell_type": "code",
   "execution_count": 9,
   "id": "6694ba94",
   "metadata": {},
   "outputs": [
    {
     "data": {
      "text/plain": [
       "array([[17],\n",
       "       [22],\n",
       "       [19]])"
      ]
     },
     "execution_count": 9,
     "metadata": {},
     "output_type": "execute_result"
    }
   ],
   "source": [
    "B = np.array([[17],[22],[19]])\n",
    "B"
   ]
  },
  {
   "cell_type": "code",
   "execution_count": 10,
   "id": "bb7ad9a8",
   "metadata": {},
   "outputs": [
    {
     "data": {
      "text/plain": [
       "array([[ 391,  850,  323],\n",
       "       [ 154,  264, 2398],\n",
       "       [1083, 1273, 1862]])"
      ]
     },
     "execution_count": 10,
     "metadata": {},
     "output_type": "execute_result"
    }
   ],
   "source": [
    "C = A * B\n",
    "C"
   ]
  },
  {
   "cell_type": "markdown",
   "id": "69b40a26",
   "metadata": {},
   "source": [
    "### Transpose Matrix"
   ]
  },
  {
   "cell_type": "code",
   "execution_count": 11,
   "id": "7ea10337",
   "metadata": {},
   "outputs": [
    {
     "data": {
      "text/plain": [
       "array([[ 23,  50,  19],\n",
       "       [  7,  12, 109],\n",
       "       [ 57,  67,  98]])"
      ]
     },
     "execution_count": 11,
     "metadata": {},
     "output_type": "execute_result"
    }
   ],
   "source": [
    "A = np.array([[23,50,19],[7,12,109],[57,67,98]])\n",
    "A"
   ]
  },
  {
   "cell_type": "code",
   "execution_count": 12,
   "id": "152c8464",
   "metadata": {},
   "outputs": [
    {
     "data": {
      "text/plain": [
       "array([[ 23,   7,  57],\n",
       "       [ 50,  12,  67],\n",
       "       [ 19, 109,  98]])"
      ]
     },
     "execution_count": 12,
     "metadata": {},
     "output_type": "execute_result"
    }
   ],
   "source": [
    "# transpose matrix\n",
    "B = A.T\n",
    "B"
   ]
  },
  {
   "cell_type": "markdown",
   "id": "d63f3f1a",
   "metadata": {},
   "source": [
    "## plot 2D"
   ]
  },
  {
   "cell_type": "code",
   "execution_count": 13,
   "id": "02195877",
   "metadata": {},
   "outputs": [],
   "source": [
    "U = np.array([2,5])\n",
    "V = np.array([3,1])"
   ]
  },
  {
   "cell_type": "code",
   "execution_count": 14,
   "id": "50bbc8af",
   "metadata": {},
   "outputs": [
    {
     "data": {
      "image/png": "[encoded data removed]",
      "text/plain": [
       "<Figure size 432x288 with 1 Axes>"
      ]
     },
     "metadata": {
      "needs_background": "light"
     },
     "output_type": "display_data"
    }
   ],
   "source": [
    "x_coords, y_coords = zip(U,V)\n",
    "plt.scatter(x_coords, y_coords, color=[\"r\",\"b\"])\n",
    "plt.axis([0,9,0,6])\n",
    "plt.grid()\n",
    "plt.show();"
   ]
  },
  {
   "cell_type": "code",
   "execution_count": null,
   "id": "fbb7f9d8",
   "metadata": {},
   "outputs": [],
   "source": []
  }
 ],
 "metadata": {
  "kernelspec": {
   "display_name": "Python 3",
   "language": "python",
   "name": "python3"
  },
  "language_info": {
   "codemirror_mode": {
    "name": "ipython",
    "version": 3
   },
   "file_extension": ".py",
   "mimetype": "text/x-python",
   "name": "python",
   "nbconvert_exporter": "python",
   "pygments_lexer": "ipython3",
   "version": "3.8.5"
  }
 },
 "nbformat": 4,
 "nbformat_minor": 5
}
